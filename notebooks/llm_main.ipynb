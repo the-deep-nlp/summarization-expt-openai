{
 "cells": [
  {
   "cell_type": "code",
   "execution_count": 22,
   "metadata": {},
   "outputs": [],
   "source": [
    "import pandas as pd\n",
    "from ast import literal_eval"
   ]
  },
  {
   "cell_type": "code",
   "execution_count": 23,
   "metadata": {},
   "outputs": [],
   "source": [
    "from summarizer import Summarization, ChainTypes\n",
    "from utils import join_lst_elements, remove_newline"
   ]
  },
  {
   "cell_type": "code",
   "execution_count": 24,
   "metadata": {},
   "outputs": [],
   "source": [
    "df = pd.read_csv(\"./data.csv\")"
   ]
  },
  {
   "cell_type": "code",
   "execution_count": 25,
   "metadata": {},
   "outputs": [
    {
     "data": {
      "text/html": [
       "<div>\n",
       "<style scoped>\n",
       "    .dataframe tbody tr th:only-of-type {\n",
       "        vertical-align: middle;\n",
       "    }\n",
       "\n",
       "    .dataframe tbody tr th {\n",
       "        vertical-align: top;\n",
       "    }\n",
       "\n",
       "    .dataframe thead th {\n",
       "        text-align: right;\n",
       "    }\n",
       "</style>\n",
       "<table border=\"1\" class=\"dataframe\">\n",
       "  <thead>\n",
       "    <tr style=\"text-align: right;\">\n",
       "      <th></th>\n",
       "      <th>id</th>\n",
       "      <th>project</th>\n",
       "      <th>original_text</th>\n",
       "      <th>original_summary</th>\n",
       "    </tr>\n",
       "  </thead>\n",
       "  <tbody>\n",
       "    <tr>\n",
       "      <th>0</th>\n",
       "      <td>1</td>\n",
       "      <td>Bangladesh</td>\n",
       "      <td>['[12th April 2021, Bangladesh] Compared to 20...</td>\n",
       "      <td>Manusher Jonno Foundation study suggested that...</td>\n",
       "    </tr>\n",
       "    <tr>\n",
       "      <th>1</th>\n",
       "      <td>2</td>\n",
       "      <td>Bangladesh</td>\n",
       "      <td>['[28th February 2021, Bangladesh] A recent st...</td>\n",
       "      <td>According to the recent survey by the rights b...</td>\n",
       "    </tr>\n",
       "    <tr>\n",
       "      <th>2</th>\n",
       "      <td>3</td>\n",
       "      <td>Bangladesh</td>\n",
       "      <td>['[22nd Feb 2021, Bangladesh] Protection Secto...</td>\n",
       "      <td>Children have faced difficulty in accessing pr...</td>\n",
       "    </tr>\n",
       "    <tr>\n",
       "      <th>3</th>\n",
       "      <td>4</td>\n",
       "      <td>Bangladesh</td>\n",
       "      <td>['[18th -24th April 2021, Cox Bazar] Refugees:...</td>\n",
       "      <td>The Border Guard Bangladesh detained twenty-tw...</td>\n",
       "    </tr>\n",
       "  </tbody>\n",
       "</table>\n",
       "</div>"
      ],
      "text/plain": [
       "   id     project                                      original_text  \\\n",
       "0   1  Bangladesh  ['[12th April 2021, Bangladesh] Compared to 20...   \n",
       "1   2  Bangladesh  ['[28th February 2021, Bangladesh] A recent st...   \n",
       "2   3  Bangladesh  ['[22nd Feb 2021, Bangladesh] Protection Secto...   \n",
       "3   4  Bangladesh  ['[18th -24th April 2021, Cox Bazar] Refugees:...   \n",
       "\n",
       "                                    original_summary  \n",
       "0  Manusher Jonno Foundation study suggested that...  \n",
       "1  According to the recent survey by the rights b...  \n",
       "2  Children have faced difficulty in accessing pr...  \n",
       "3  The Border Guard Bangladesh detained twenty-tw...  "
      ]
     },
     "execution_count": 25,
     "metadata": {},
     "output_type": "execute_result"
    }
   ],
   "source": [
    "df"
   ]
  },
  {
   "cell_type": "code",
   "execution_count": 26,
   "metadata": {},
   "outputs": [],
   "source": [
    "df.original_text = df.original_text.map(literal_eval)"
   ]
  },
  {
   "cell_type": "code",
   "execution_count": 27,
   "metadata": {},
   "outputs": [],
   "source": [
    "df.original_text = df.original_text.apply(join_lst_elements)"
   ]
  },
  {
   "cell_type": "code",
   "execution_count": 28,
   "metadata": {},
   "outputs": [
    {
     "data": {
      "text/html": [
       "<div>\n",
       "<style scoped>\n",
       "    .dataframe tbody tr th:only-of-type {\n",
       "        vertical-align: middle;\n",
       "    }\n",
       "\n",
       "    .dataframe tbody tr th {\n",
       "        vertical-align: top;\n",
       "    }\n",
       "\n",
       "    .dataframe thead th {\n",
       "        text-align: right;\n",
       "    }\n",
       "</style>\n",
       "<table border=\"1\" class=\"dataframe\">\n",
       "  <thead>\n",
       "    <tr style=\"text-align: right;\">\n",
       "      <th></th>\n",
       "      <th>id</th>\n",
       "      <th>project</th>\n",
       "      <th>original_text</th>\n",
       "      <th>original_summary</th>\n",
       "    </tr>\n",
       "  </thead>\n",
       "  <tbody>\n",
       "    <tr>\n",
       "      <th>0</th>\n",
       "      <td>1</td>\n",
       "      <td>Bangladesh</td>\n",
       "      <td>[12th April 2021, Bangladesh] Compared to 2019...</td>\n",
       "      <td>Manusher Jonno Foundation study suggested that...</td>\n",
       "    </tr>\n",
       "    <tr>\n",
       "      <th>1</th>\n",
       "      <td>2</td>\n",
       "      <td>Bangladesh</td>\n",
       "      <td>[28th February 2021, Bangladesh] A recent stud...</td>\n",
       "      <td>According to the recent survey by the rights b...</td>\n",
       "    </tr>\n",
       "    <tr>\n",
       "      <th>2</th>\n",
       "      <td>3</td>\n",
       "      <td>Bangladesh</td>\n",
       "      <td>[22nd Feb 2021, Bangladesh] Protection Sector:...</td>\n",
       "      <td>Children have faced difficulty in accessing pr...</td>\n",
       "    </tr>\n",
       "    <tr>\n",
       "      <th>3</th>\n",
       "      <td>4</td>\n",
       "      <td>Bangladesh</td>\n",
       "      <td>[18th -24th April 2021, Cox Bazar] Refugees: D...</td>\n",
       "      <td>The Border Guard Bangladesh detained twenty-tw...</td>\n",
       "    </tr>\n",
       "  </tbody>\n",
       "</table>\n",
       "</div>"
      ],
      "text/plain": [
       "   id     project                                      original_text  \\\n",
       "0   1  Bangladesh  [12th April 2021, Bangladesh] Compared to 2019...   \n",
       "1   2  Bangladesh  [28th February 2021, Bangladesh] A recent stud...   \n",
       "2   3  Bangladesh  [22nd Feb 2021, Bangladesh] Protection Sector:...   \n",
       "3   4  Bangladesh  [18th -24th April 2021, Cox Bazar] Refugees: D...   \n",
       "\n",
       "                                    original_summary  \n",
       "0  Manusher Jonno Foundation study suggested that...  \n",
       "1  According to the recent survey by the rights b...  \n",
       "2  Children have faced difficulty in accessing pr...  \n",
       "3  The Border Guard Bangladesh detained twenty-tw...  "
      ]
     },
     "execution_count": 28,
     "metadata": {},
     "output_type": "execute_result"
    }
   ],
   "source": [
    "df"
   ]
  },
  {
   "cell_type": "code",
   "execution_count": 29,
   "metadata": {},
   "outputs": [],
   "source": [
    "llm_summarizer = Summarization()"
   ]
  },
  {
   "cell_type": "code",
   "execution_count": 30,
   "metadata": {},
   "outputs": [],
   "source": [
    "prompt = llm_summarizer.generate_prompt()"
   ]
  },
  {
   "cell_type": "code",
   "execution_count": 31,
   "metadata": {},
   "outputs": [],
   "source": [
    "def process_llm_summary(row):\n",
    "    doc = llm_summarizer.create_docs(row[\"original_text\"])\n",
    "    generated_summary = llm_summarizer.generate_summary(\n",
    "        doc,\n",
    "        prompt,\n",
    "        chain_type=ChainTypes.REFINE\n",
    "    )\n",
    "    return remove_newline(generated_summary)\n"
   ]
  },
  {
   "cell_type": "code",
   "execution_count": 32,
   "metadata": {},
   "outputs": [],
   "source": [
    "def process_llm_summary_inbuilt_chain(row):\n",
    "    doc = llm_summarizer.create_docs(row[\"original_text\"])\n",
    "    generated_summary = llm_summarizer.use_summ_checker_chain(doc)\n",
    "    return remove_newline(generated_summary)"
   ]
  },
  {
   "cell_type": "code",
   "execution_count": 38,
   "metadata": {},
   "outputs": [],
   "source": [
    "def calc_score(row, inbuilt_chain=False):\n",
    "    if inbuilt_chain:\n",
    "        scores = llm_summarizer.evaluate(\n",
    "            [row[\"original_summary\"].strip()],\n",
    "            [row[\"generated_summary_B\"].strip()]\n",
    "        )\n",
    "    else:\n",
    "        scores = llm_summarizer.evaluate(\n",
    "            [row[\"original_summary\"].strip()],\n",
    "            [row[\"generated_summary_A\"].strip()]\n",
    "        )\n",
    "    return (\n",
    "        scores[\"rouge1\"],\n",
    "        scores[\"rouge2\"],\n",
    "        scores[\"rougeL\"]\n",
    "    )"
   ]
  },
  {
   "cell_type": "code",
   "execution_count": 34,
   "metadata": {},
   "outputs": [],
   "source": [
    "df[\"generated_summary_A\"] = df.apply(lambda row: process_llm_summary(row), axis=1)"
   ]
  },
  {
   "cell_type": "code",
   "execution_count": 35,
   "metadata": {},
   "outputs": [],
   "source": [
    "df[\"generated_summary_B\"] = df.apply(lambda row: process_llm_summary_inbuilt_chain(row), axis=1)"
   ]
  },
  {
   "cell_type": "code",
   "execution_count": 39,
   "metadata": {},
   "outputs": [
    {
     "data": {
      "text/html": [
       "<div>\n",
       "<style scoped>\n",
       "    .dataframe tbody tr th:only-of-type {\n",
       "        vertical-align: middle;\n",
       "    }\n",
       "\n",
       "    .dataframe tbody tr th {\n",
       "        vertical-align: top;\n",
       "    }\n",
       "\n",
       "    .dataframe thead th {\n",
       "        text-align: right;\n",
       "    }\n",
       "</style>\n",
       "<table border=\"1\" class=\"dataframe\">\n",
       "  <thead>\n",
       "    <tr style=\"text-align: right;\">\n",
       "      <th></th>\n",
       "      <th>id</th>\n",
       "      <th>project</th>\n",
       "      <th>original_text</th>\n",
       "      <th>original_summary</th>\n",
       "      <th>generated_summary_A</th>\n",
       "      <th>generated_summary_B</th>\n",
       "    </tr>\n",
       "  </thead>\n",
       "  <tbody>\n",
       "    <tr>\n",
       "      <th>0</th>\n",
       "      <td>1</td>\n",
       "      <td>Bangladesh</td>\n",
       "      <td>[12th April 2021, Bangladesh] Compared to 2019...</td>\n",
       "      <td>Manusher Jonno Foundation study suggested that...</td>\n",
       "      <td>\\nA Manusher Jonno Foundation study has reveal...</td>\n",
       "      <td>\"\"\"\\n[12th April 2021, Bangladesh] According t...</td>\n",
       "    </tr>\n",
       "    <tr>\n",
       "      <th>1</th>\n",
       "      <td>2</td>\n",
       "      <td>Bangladesh</td>\n",
       "      <td>[28th February 2021, Bangladesh] A recent stud...</td>\n",
       "      <td>According to the recent survey by the rights b...</td>\n",
       "      <td>\\nA recent survey conducted by Ain o Salish Ke...</td>\n",
       "      <td>\"\"\"\\n[28th February 2021, Bangladesh] A recent...</td>\n",
       "    </tr>\n",
       "    <tr>\n",
       "      <th>2</th>\n",
       "      <td>3</td>\n",
       "      <td>Bangladesh</td>\n",
       "      <td>[22nd Feb 2021, Bangladesh] Protection Sector:...</td>\n",
       "      <td>Children have faced difficulty in accessing pr...</td>\n",
       "      <td>\\nChildren in Bangladesh are facing unique cha...</td>\n",
       "      <td>[22nd Feb 2021, Bangladesh] Children in Bangla...</td>\n",
       "    </tr>\n",
       "    <tr>\n",
       "      <th>3</th>\n",
       "      <td>4</td>\n",
       "      <td>Bangladesh</td>\n",
       "      <td>[18th -24th April 2021, Cox Bazar] Refugees: D...</td>\n",
       "      <td>The Border Guard Bangladesh detained twenty-tw...</td>\n",
       "      <td>\\nDuring the week of 18th -24th April 2021, a ...</td>\n",
       "      <td>\"\"\"\\n[18th -24th April 2021, Cox Bazar] Refuge...</td>\n",
       "    </tr>\n",
       "  </tbody>\n",
       "</table>\n",
       "</div>"
      ],
      "text/plain": [
       "   id     project                                      original_text  \\\n",
       "0   1  Bangladesh  [12th April 2021, Bangladesh] Compared to 2019...   \n",
       "1   2  Bangladesh  [28th February 2021, Bangladesh] A recent stud...   \n",
       "2   3  Bangladesh  [22nd Feb 2021, Bangladesh] Protection Sector:...   \n",
       "3   4  Bangladesh  [18th -24th April 2021, Cox Bazar] Refugees: D...   \n",
       "\n",
       "                                    original_summary  \\\n",
       "0  Manusher Jonno Foundation study suggested that...   \n",
       "1  According to the recent survey by the rights b...   \n",
       "2  Children have faced difficulty in accessing pr...   \n",
       "3  The Border Guard Bangladesh detained twenty-tw...   \n",
       "\n",
       "                                 generated_summary_A  \\\n",
       "0  \\nA Manusher Jonno Foundation study has reveal...   \n",
       "1  \\nA recent survey conducted by Ain o Salish Ke...   \n",
       "2  \\nChildren in Bangladesh are facing unique cha...   \n",
       "3  \\nDuring the week of 18th -24th April 2021, a ...   \n",
       "\n",
       "                                 generated_summary_B  \n",
       "0  \"\"\"\\n[12th April 2021, Bangladesh] According t...  \n",
       "1  \"\"\"\\n[28th February 2021, Bangladesh] A recent...  \n",
       "2  [22nd Feb 2021, Bangladesh] Children in Bangla...  \n",
       "3  \"\"\"\\n[18th -24th April 2021, Cox Bazar] Refuge...  "
      ]
     },
     "execution_count": 39,
     "metadata": {},
     "output_type": "execute_result"
    }
   ],
   "source": [
    "df"
   ]
  },
  {
   "cell_type": "code",
   "execution_count": 40,
   "metadata": {},
   "outputs": [],
   "source": [
    "df[[\"rouge1_A\", \"rouge2_A\", \"rougeL_A\"]] = df.apply(lambda row: calc_score(row), axis=1, result_type=\"expand\")"
   ]
  },
  {
   "cell_type": "code",
   "execution_count": 41,
   "metadata": {},
   "outputs": [],
   "source": [
    "df[[\"rouge1_B\", \"rouge2_B\", \"rougeL_B\"]] = df.apply(lambda row: calc_score(row, inbuilt_chain=True), axis=1, result_type=\"expand\")"
   ]
  },
  {
   "cell_type": "code",
   "execution_count": 42,
   "metadata": {},
   "outputs": [
    {
     "data": {
      "text/html": [
       "<div>\n",
       "<style scoped>\n",
       "    .dataframe tbody tr th:only-of-type {\n",
       "        vertical-align: middle;\n",
       "    }\n",
       "\n",
       "    .dataframe tbody tr th {\n",
       "        vertical-align: top;\n",
       "    }\n",
       "\n",
       "    .dataframe thead th {\n",
       "        text-align: right;\n",
       "    }\n",
       "</style>\n",
       "<table border=\"1\" class=\"dataframe\">\n",
       "  <thead>\n",
       "    <tr style=\"text-align: right;\">\n",
       "      <th></th>\n",
       "      <th>id</th>\n",
       "      <th>project</th>\n",
       "      <th>original_text</th>\n",
       "      <th>original_summary</th>\n",
       "      <th>generated_summary_A</th>\n",
       "      <th>generated_summary_B</th>\n",
       "      <th>rouge1_A</th>\n",
       "      <th>rouge2_A</th>\n",
       "      <th>rougeL_A</th>\n",
       "      <th>rouge1_B</th>\n",
       "      <th>rouge2_B</th>\n",
       "      <th>rougeL_B</th>\n",
       "    </tr>\n",
       "  </thead>\n",
       "  <tbody>\n",
       "    <tr>\n",
       "      <th>0</th>\n",
       "      <td>1</td>\n",
       "      <td>Bangladesh</td>\n",
       "      <td>[12th April 2021, Bangladesh] Compared to 2019...</td>\n",
       "      <td>Manusher Jonno Foundation study suggested that...</td>\n",
       "      <td>\\nA Manusher Jonno Foundation study has reveal...</td>\n",
       "      <td>\"\"\"\\n[12th April 2021, Bangladesh] According t...</td>\n",
       "      <td>0.426230</td>\n",
       "      <td>0.176796</td>\n",
       "      <td>0.295082</td>\n",
       "      <td>0.346774</td>\n",
       "      <td>0.138211</td>\n",
       "      <td>0.241935</td>\n",
       "    </tr>\n",
       "    <tr>\n",
       "      <th>1</th>\n",
       "      <td>2</td>\n",
       "      <td>Bangladesh</td>\n",
       "      <td>[28th February 2021, Bangladesh] A recent stud...</td>\n",
       "      <td>According to the recent survey by the rights b...</td>\n",
       "      <td>\\nA recent survey conducted by Ain o Salish Ke...</td>\n",
       "      <td>\"\"\"\\n[28th February 2021, Bangladesh] A recent...</td>\n",
       "      <td>0.253012</td>\n",
       "      <td>0.073171</td>\n",
       "      <td>0.180723</td>\n",
       "      <td>0.248889</td>\n",
       "      <td>0.062780</td>\n",
       "      <td>0.151111</td>\n",
       "    </tr>\n",
       "    <tr>\n",
       "      <th>2</th>\n",
       "      <td>3</td>\n",
       "      <td>Bangladesh</td>\n",
       "      <td>[22nd Feb 2021, Bangladesh] Protection Sector:...</td>\n",
       "      <td>Children have faced difficulty in accessing pr...</td>\n",
       "      <td>\\nChildren in Bangladesh are facing unique cha...</td>\n",
       "      <td>[22nd Feb 2021, Bangladesh] Children in Bangla...</td>\n",
       "      <td>0.373626</td>\n",
       "      <td>0.202247</td>\n",
       "      <td>0.329670</td>\n",
       "      <td>0.342857</td>\n",
       "      <td>0.174757</td>\n",
       "      <td>0.285714</td>\n",
       "    </tr>\n",
       "    <tr>\n",
       "      <th>3</th>\n",
       "      <td>4</td>\n",
       "      <td>Bangladesh</td>\n",
       "      <td>[18th -24th April 2021, Cox Bazar] Refugees: D...</td>\n",
       "      <td>The Border Guard Bangladesh detained twenty-tw...</td>\n",
       "      <td>\\nDuring the week of 18th -24th April 2021, a ...</td>\n",
       "      <td>\"\"\"\\n[18th -24th April 2021, Cox Bazar] Refuge...</td>\n",
       "      <td>0.426230</td>\n",
       "      <td>0.183333</td>\n",
       "      <td>0.327869</td>\n",
       "      <td>0.440678</td>\n",
       "      <td>0.189655</td>\n",
       "      <td>0.305085</td>\n",
       "    </tr>\n",
       "  </tbody>\n",
       "</table>\n",
       "</div>"
      ],
      "text/plain": [
       "   id     project                                      original_text  \\\n",
       "0   1  Bangladesh  [12th April 2021, Bangladesh] Compared to 2019...   \n",
       "1   2  Bangladesh  [28th February 2021, Bangladesh] A recent stud...   \n",
       "2   3  Bangladesh  [22nd Feb 2021, Bangladesh] Protection Sector:...   \n",
       "3   4  Bangladesh  [18th -24th April 2021, Cox Bazar] Refugees: D...   \n",
       "\n",
       "                                    original_summary  \\\n",
       "0  Manusher Jonno Foundation study suggested that...   \n",
       "1  According to the recent survey by the rights b...   \n",
       "2  Children have faced difficulty in accessing pr...   \n",
       "3  The Border Guard Bangladesh detained twenty-tw...   \n",
       "\n",
       "                                 generated_summary_A  \\\n",
       "0  \\nA Manusher Jonno Foundation study has reveal...   \n",
       "1  \\nA recent survey conducted by Ain o Salish Ke...   \n",
       "2  \\nChildren in Bangladesh are facing unique cha...   \n",
       "3  \\nDuring the week of 18th -24th April 2021, a ...   \n",
       "\n",
       "                                 generated_summary_B  rouge1_A  rouge2_A  \\\n",
       "0  \"\"\"\\n[12th April 2021, Bangladesh] According t...  0.426230  0.176796   \n",
       "1  \"\"\"\\n[28th February 2021, Bangladesh] A recent...  0.253012  0.073171   \n",
       "2  [22nd Feb 2021, Bangladesh] Children in Bangla...  0.373626  0.202247   \n",
       "3  \"\"\"\\n[18th -24th April 2021, Cox Bazar] Refuge...  0.426230  0.183333   \n",
       "\n",
       "   rougeL_A  rouge1_B  rouge2_B  rougeL_B  \n",
       "0  0.295082  0.346774  0.138211  0.241935  \n",
       "1  0.180723  0.248889  0.062780  0.151111  \n",
       "2  0.329670  0.342857  0.174757  0.285714  \n",
       "3  0.327869  0.440678  0.189655  0.305085  "
      ]
     },
     "execution_count": 42,
     "metadata": {},
     "output_type": "execute_result"
    }
   ],
   "source": [
    "df"
   ]
  },
  {
   "cell_type": "code",
   "execution_count": 43,
   "metadata": {},
   "outputs": [],
   "source": [
    "df.to_csv(\"results.csv\", index=False)"
   ]
  },
  {
   "cell_type": "code",
   "execution_count": null,
   "metadata": {},
   "outputs": [],
   "source": []
  }
 ],
 "metadata": {
  "kernelspec": {
   "display_name": "venv",
   "language": "python",
   "name": "python3"
  },
  "language_info": {
   "codemirror_mode": {
    "name": "ipython",
    "version": 3
   },
   "file_extension": ".py",
   "mimetype": "text/x-python",
   "name": "python",
   "nbconvert_exporter": "python",
   "pygments_lexer": "ipython3",
   "version": "3.8.10"
  },
  "orig_nbformat": 4
 },
 "nbformat": 4,
 "nbformat_minor": 2
}
